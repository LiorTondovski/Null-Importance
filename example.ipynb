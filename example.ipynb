{
 "cells": [
  {
   "cell_type": "code",
   "execution_count": 1,
   "metadata": {},
   "outputs": [],
   "source": [
    "import pandas as pd\n",
    "from sklearn.datasets import load_wine\n",
    "from xgboost import XGBClassifier\n",
    "from sklearn.model_selection import train_test_split\n",
    "\n",
    "from null_importance import *"
   ]
  },
  {
   "cell_type": "code",
   "execution_count": 9,
   "metadata": {},
   "outputs": [],
   "source": [
    "data = load_wine()\n",
    "X = pd.DataFrame(data.data, columns=data.feature_names)\n",
    "y = data.target\n",
    "wine_df = pd.concat([X, pd.Series(y, name='target')], axis=1)\n",
    "train_df, test_df = train_test_split(wine_df, test_size=0.2, random_state=42)\n",
    "train_df_features = train_df.drop('target', axis=1)\n",
    "train_df_target = train_df['target']"
   ]
  },
  {
   "cell_type": "code",
   "execution_count": 4,
   "metadata": {},
   "outputs": [],
   "source": [
    "null_importance = NullImportance(classifier=XGBClassifier(n_estimators=100, random_state=42),\n",
    "                                 X=train_df_features,\n",
    "                                 y=train_df_target,\n",
    "                                 num_permutations=50,\n",
    "                                 num_real_feature_importance_calculations=1,\n",
    "                                 p_value=0.05)"
   ]
  },
  {
   "cell_type": "code",
   "execution_count": 5,
   "metadata": {},
   "outputs": [
    {
     "name": "stderr",
     "output_type": "stream",
     "text": [
      "100%|██████████| 50/50 [00:05<00:00,  8.45it/s]\n"
     ]
    },
    {
     "name": "stdout",
     "output_type": "stream",
     "text": [
      "The total number of features before feature selection is: 13\n",
      "The total number of eliminated features is 9\n",
      "69.23% of the original features were eliminated\n",
      "The total number of selected features is 4\n"
     ]
    }
   ],
   "source": [
    "selected_features, eliminated_features = null_importance.feature_selection_pipline()"
   ]
  }
 ],
 "metadata": {
  "kernelspec": {
   "display_name": "Python 3",
   "language": "python",
   "name": "python3"
  },
  "language_info": {
   "codemirror_mode": {
    "name": "ipython",
    "version": 3
   },
   "file_extension": ".py",
   "mimetype": "text/x-python",
   "name": "python",
   "nbconvert_exporter": "python",
   "pygments_lexer": "ipython3",
   "version": "3.10.11"
  },
  "orig_nbformat": 4
 },
 "nbformat": 4,
 "nbformat_minor": 2
}
